{
  "nbformat": 4,
  "nbformat_minor": 0,
  "metadata": {
    "colab": {
      "provenance": [],
      "gpuType": "T4",
      "authorship_tag": "ABX9TyMyXnTDgUc2sYmIJ69N3nVR",
      "include_colab_link": true
    },
    "kernelspec": {
      "name": "python3",
      "display_name": "Python 3"
    },
    "language_info": {
      "name": "python"
    },
    "accelerator": "GPU"
  },
  "cells": [
    {
      "cell_type": "markdown",
      "metadata": {
        "id": "view-in-github",
        "colab_type": "text"
      },
      "source": [
        "<a href=\"https://colab.research.google.com/github/yunmengmengyun/byte/blob/main/ByteTrack.ipynb\" target=\"_parent\"><img src=\"https://colab.research.google.com/assets/colab-badge.svg\" alt=\"Open In Colab\"/></a>"
      ]
    },
    {
      "cell_type": "code",
      "execution_count": null,
      "metadata": {
        "colab": {
          "base_uri": "https://localhost:8080/"
        },
        "collapsed": true,
        "id": "p21MoHJr5TgB",
        "outputId": "b555b0b8-936e-41c3-fca3-6d4695a97057"
      },
      "outputs": [
        {
          "output_type": "stream",
          "name": "stdout",
          "text": [
            "Collecting supervision\n",
            "  Downloading supervision-0.23.0-py3-none-any.whl.metadata (14 kB)\n",
            "Requirement already satisfied: tqdm in /usr/local/lib/python3.10/dist-packages (4.66.5)\n",
            "Collecting ultralytics\n",
            "  Downloading ultralytics-8.3.3-py3-none-any.whl.metadata (34 kB)\n",
            "Requirement already satisfied: numpy in /usr/local/lib/python3.10/dist-packages (1.26.4)\n",
            "Requirement already satisfied: defusedxml<0.8.0,>=0.7.1 in /usr/local/lib/python3.10/dist-packages (from supervision) (0.7.1)\n",
            "Requirement already satisfied: matplotlib>=3.6.0 in /usr/local/lib/python3.10/dist-packages (from supervision) (3.7.1)\n",
            "Requirement already satisfied: opencv-python-headless>=4.5.5.64 in /usr/local/lib/python3.10/dist-packages (from supervision) (4.10.0.84)\n",
            "Requirement already satisfied: pillow>=9.4 in /usr/local/lib/python3.10/dist-packages (from supervision) (10.4.0)\n",
            "Requirement already satisfied: pyyaml>=5.3 in /usr/local/lib/python3.10/dist-packages (from supervision) (6.0.2)\n",
            "Requirement already satisfied: scipy<2.0.0,>=1.10.0 in /usr/local/lib/python3.10/dist-packages (from supervision) (1.13.1)\n",
            "Requirement already satisfied: opencv-python>=4.6.0 in /usr/local/lib/python3.10/dist-packages (from ultralytics) (4.10.0.84)\n",
            "Requirement already satisfied: requests>=2.23.0 in /usr/local/lib/python3.10/dist-packages (from ultralytics) (2.32.3)\n",
            "Requirement already satisfied: torch>=1.8.0 in /usr/local/lib/python3.10/dist-packages (from ultralytics) (2.4.1+cu121)\n",
            "Requirement already satisfied: torchvision>=0.9.0 in /usr/local/lib/python3.10/dist-packages (from ultralytics) (0.19.1+cu121)\n",
            "Requirement already satisfied: psutil in /usr/local/lib/python3.10/dist-packages (from ultralytics) (5.9.5)\n",
            "Requirement already satisfied: py-cpuinfo in /usr/local/lib/python3.10/dist-packages (from ultralytics) (9.0.0)\n",
            "Requirement already satisfied: pandas>=1.1.4 in /usr/local/lib/python3.10/dist-packages (from ultralytics) (2.2.2)\n",
            "Requirement already satisfied: seaborn>=0.11.0 in /usr/local/lib/python3.10/dist-packages (from ultralytics) (0.13.1)\n",
            "Collecting ultralytics-thop>=2.0.0 (from ultralytics)\n",
            "  Downloading ultralytics_thop-2.0.8-py3-none-any.whl.metadata (9.3 kB)\n",
            "Requirement already satisfied: contourpy>=1.0.1 in /usr/local/lib/python3.10/dist-packages (from matplotlib>=3.6.0->supervision) (1.3.0)\n",
            "Requirement already satisfied: cycler>=0.10 in /usr/local/lib/python3.10/dist-packages (from matplotlib>=3.6.0->supervision) (0.12.1)\n",
            "Requirement already satisfied: fonttools>=4.22.0 in /usr/local/lib/python3.10/dist-packages (from matplotlib>=3.6.0->supervision) (4.54.1)\n",
            "Requirement already satisfied: kiwisolver>=1.0.1 in /usr/local/lib/python3.10/dist-packages (from matplotlib>=3.6.0->supervision) (1.4.7)\n",
            "Requirement already satisfied: packaging>=20.0 in /usr/local/lib/python3.10/dist-packages (from matplotlib>=3.6.0->supervision) (24.1)\n",
            "Requirement already satisfied: pyparsing>=2.3.1 in /usr/local/lib/python3.10/dist-packages (from matplotlib>=3.6.0->supervision) (3.1.4)\n",
            "Requirement already satisfied: python-dateutil>=2.7 in /usr/local/lib/python3.10/dist-packages (from matplotlib>=3.6.0->supervision) (2.8.2)\n",
            "Requirement already satisfied: pytz>=2020.1 in /usr/local/lib/python3.10/dist-packages (from pandas>=1.1.4->ultralytics) (2024.2)\n",
            "Requirement already satisfied: tzdata>=2022.7 in /usr/local/lib/python3.10/dist-packages (from pandas>=1.1.4->ultralytics) (2024.2)\n",
            "Requirement already satisfied: charset-normalizer<4,>=2 in /usr/local/lib/python3.10/dist-packages (from requests>=2.23.0->ultralytics) (3.3.2)\n",
            "Requirement already satisfied: idna<4,>=2.5 in /usr/local/lib/python3.10/dist-packages (from requests>=2.23.0->ultralytics) (3.10)\n",
            "Requirement already satisfied: urllib3<3,>=1.21.1 in /usr/local/lib/python3.10/dist-packages (from requests>=2.23.0->ultralytics) (2.2.3)\n",
            "Requirement already satisfied: certifi>=2017.4.17 in /usr/local/lib/python3.10/dist-packages (from requests>=2.23.0->ultralytics) (2024.8.30)\n",
            "Requirement already satisfied: filelock in /usr/local/lib/python3.10/dist-packages (from torch>=1.8.0->ultralytics) (3.16.1)\n",
            "Requirement already satisfied: typing-extensions>=4.8.0 in /usr/local/lib/python3.10/dist-packages (from torch>=1.8.0->ultralytics) (4.12.2)\n",
            "Requirement already satisfied: sympy in /usr/local/lib/python3.10/dist-packages (from torch>=1.8.0->ultralytics) (1.13.3)\n",
            "Requirement already satisfied: networkx in /usr/local/lib/python3.10/dist-packages (from torch>=1.8.0->ultralytics) (3.3)\n",
            "Requirement already satisfied: jinja2 in /usr/local/lib/python3.10/dist-packages (from torch>=1.8.0->ultralytics) (3.1.4)\n",
            "Requirement already satisfied: fsspec in /usr/local/lib/python3.10/dist-packages (from torch>=1.8.0->ultralytics) (2024.6.1)\n",
            "Requirement already satisfied: six>=1.5 in /usr/local/lib/python3.10/dist-packages (from python-dateutil>=2.7->matplotlib>=3.6.0->supervision) (1.16.0)\n",
            "Requirement already satisfied: MarkupSafe>=2.0 in /usr/local/lib/python3.10/dist-packages (from jinja2->torch>=1.8.0->ultralytics) (2.1.5)\n",
            "Requirement already satisfied: mpmath<1.4,>=1.1.0 in /usr/local/lib/python3.10/dist-packages (from sympy->torch>=1.8.0->ultralytics) (1.3.0)\n",
            "Downloading supervision-0.23.0-py3-none-any.whl (151 kB)\n",
            "\u001b[2K   \u001b[90m━━━━━━━━━━━━━━━━━━━━━━━━━━━━━━━━━━━━━━━━\u001b[0m \u001b[32m151.5/151.5 kB\u001b[0m \u001b[31m8.0 MB/s\u001b[0m eta \u001b[36m0:00:00\u001b[0m\n",
            "\u001b[?25hDownloading ultralytics-8.3.3-py3-none-any.whl (881 kB)\n",
            "\u001b[2K   \u001b[90m━━━━━━━━━━━━━━━━━━━━━━━━━━━━━━━━━━━━━━━━\u001b[0m \u001b[32m881.4/881.4 kB\u001b[0m \u001b[31m35.6 MB/s\u001b[0m eta \u001b[36m0:00:00\u001b[0m\n",
            "\u001b[?25hDownloading ultralytics_thop-2.0.8-py3-none-any.whl (26 kB)\n",
            "Installing collected packages: ultralytics-thop, supervision, ultralytics\n",
            "Successfully installed supervision-0.23.0 ultralytics-8.3.3 ultralytics-thop-2.0.8\n"
          ]
        }
      ],
      "source": [
        "!pip install supervision tqdm ultralytics numpy"
      ]
    },
    {
      "cell_type": "code",
      "source": [],
      "metadata": {
        "id": "dalBCn9_5T81"
      },
      "execution_count": null,
      "outputs": []
    },
    {
      "cell_type": "code",
      "source": [
        "pwd"
      ],
      "metadata": {
        "colab": {
          "base_uri": "https://localhost:8080/",
          "height": 35
        },
        "id": "TcNeDuDM5UB9",
        "outputId": "01464e7e-4883-4619-dbae-a008a861c136"
      },
      "execution_count": null,
      "outputs": [
        {
          "output_type": "execute_result",
          "data": {
            "text/plain": [
              "'/content'"
            ],
            "application/vnd.google.colaboratory.intrinsic+json": {
              "type": "string"
            }
          },
          "metadata": {},
          "execution_count": 5
        }
      ]
    },
    {
      "cell_type": "code",
      "source": [
        "!python sv_bytetracker_yolo.py --source_weights_path yolov8m.pt --source_video_path 33.mp4 --target_video_path test_pred.mp4 --confidence_threshold 0.1"
      ],
      "metadata": {
        "colab": {
          "base_uri": "https://localhost:8080/"
        },
        "id": "R4xdQV7V8IVJ",
        "outputId": "6927c446-e756-43b8-b94b-3ac5553d569f"
      },
      "execution_count": null,
      "outputs": [
        {
          "output_type": "stream",
          "name": "stdout",
          "text": [
            "SupervisionWarnings: BoundingBoxAnnotator is deprecated: `BoundingBoxAnnotator` is deprecated and has been renamed to `BoxAnnotator`. `BoundingBoxAnnotator` will be removed in supervision-0.26.0.\n",
            "100% 313/313 [00:08<00:00, 38.16it/s]\n"
          ]
        }
      ]
    },
    {
      "cell_type": "code",
      "source": [
        "!python sv_bytetracker_yolo.py --source_weights_path yolov8m.pt --source_video_path PW.mp4 --target_video_path PW-pre.mp4 --confidence_threshold 0.1"
      ],
      "metadata": {
        "colab": {
          "base_uri": "https://localhost:8080/"
        },
        "id": "gXTE-pHV87Xr",
        "outputId": "6b8aeaf3-0abf-4d0d-d9a4-b797f8a886f4"
      },
      "execution_count": null,
      "outputs": [
        {
          "output_type": "stream",
          "name": "stdout",
          "text": [
            "SupervisionWarnings: BoundingBoxAnnotator is deprecated: `BoundingBoxAnnotator` is deprecated and has been renamed to `BoxAnnotator`. `BoundingBoxAnnotator` will be removed in supervision-0.26.0.\n",
            "100% 108/108 [00:04<00:00, 23.41it/s]\n"
          ]
        }
      ]
    },
    {
      "cell_type": "code",
      "source": [
        "import supervision as sv\n",
        "from ultralytics import YOLO\n",
        "from tqdm import tqdm\n",
        "import argparse\n",
        "import numpy as np\n",
        "\n",
        "tracker = sv.ByteTrack()\n",
        "def process_video(\n",
        "        source_weights_path: str,\n",
        "        source_video_path: str,\n",
        "        target_video_path: str,\n",
        "        confidence_threshold: float = 0.3,\n",
        "        iou_threshold: float = 0.7\n",
        ") -> None:\n",
        "    model = YOLO(source_weights_path)       # Load YOLO model\n",
        "    classes = list(model.names.values())    # Class names\n",
        "    LINE_STARTS = sv.Point(0,500)           # Line start point for count in/out vehicle\n",
        "    LINE_END = sv.Point(1280, 500)          # Line end point for count in/out vehicle\n",
        "    tracker = sv.ByteTrack()                # Bytetracker instance\n",
        "    box_annotator = sv.BoundingBoxAnnotator(thickness=1)     # BondingBox annotator instance\n",
        "    label_annotator = sv.LabelAnnotator(text_scale=0.2, text_thickness=1, text_padding=3)         # Label annotator instance\n",
        "    frame_generator = sv.get_video_frames_generator(source_path=source_video_path) # for generating frames from video\n",
        "    video_info = sv.VideoInfo.from_video_path(video_path=source_video_path)\n",
        "    line_counter = sv.LineZone(start=LINE_STARTS, end = LINE_END)\n",
        "    line_annotator = sv.LineZoneAnnotator(thickness=2, text_thickness=1, text_scale= 0.2)\n",
        "\n",
        "    with sv.VideoSink(target_path=target_video_path, video_info=video_info) as sink:\n",
        "        for frame in tqdm(frame_generator, total= video_info.total_frames):\n",
        "            # Getting result from model\n",
        "            results = model(frame, verbose=False, conf= confidence_threshold, iou = iou_threshold)[0]\n",
        "            detections = sv.Detections.from_ultralytics(results)    # Getting detections\n",
        "            #Filtering classes for car and truck only instead of all COCO classes.\n",
        "            detections = detections[np.where((detections.class_id==2)|(detections.class_id==7))]\n",
        "            detections = tracker.update_with_detections(detections)  # Updating detection to Bytetracker\n",
        "            # Annotating detection boxes\n",
        "            annotated_frame = box_annotator.annotate(scene = frame.copy(), detections= detections)\n",
        "\n",
        "            #Prepare labels\n",
        "            labels = []\n",
        "            for index in range(len(detections.class_id)):\n",
        "                # creating labels as per required.\n",
        "                labels.append(\"#\" + str(detections.tracker_id[index]) + \" \" + classes[detections.class_id[index]] + \" \"+ str(round(detections.confidence[index],2)) )\n",
        "\n",
        "            # Line counter in/out trigger\n",
        "            line_counter.trigger(detections=detections)\n",
        "            # Annotating labels\n",
        "            annotated_label_frame = label_annotator.annotate(scene=annotated_frame, detections=detections, labels=labels)\n",
        "            # Annotating line labels\n",
        "            line_annotate_frame = line_annotator.annotate(frame=annotated_label_frame, line_counter=line_counter)\n",
        "            sink.write_frame(frame = line_annotate_frame)\n",
        "\n",
        "if __name__ == \"__main__\":\n",
        "    parser = argparse.ArgumentParser(\"video processing with YOLO and ByteTrack\")\n",
        "    parser.add_argument(\n",
        "        \"--source_weights_path\",\n",
        "        required=True,\n",
        "        help=\"Path to the source weights file\",\n",
        "        type=str\n",
        "    )\n",
        "    parser.add_argument(\n",
        "        \"--source_video_path\",\n",
        "        required=True,\n",
        "        help=\"Path to the source video file\",\n",
        "        type = str\n",
        "    )\n",
        "    parser.add_argument(\n",
        "        \"--target_video_path\",\n",
        "        required=True,\n",
        "        help=\"Path to the target video file\",\n",
        "        type= str\n",
        "    )\n",
        "    parser.add_argument(\n",
        "        \"--confidence_threshold\",\n",
        "        default = 0.3,\n",
        "        help= \"Confidence threshold for the model\",\n",
        "        type=float\n",
        "    )\n",
        "    parser.add_argument(\n",
        "        \"--iou_threshold\",\n",
        "        default=0.7,\n",
        "        help=\"Iou threshold for the model\",\n",
        "        type= float\n",
        "    )\n",
        "    args = parser.parse_args()\n",
        "    process_video(\n",
        "        source_weights_path=args.source_weights_path,\n",
        "        source_video_path= args.source_video_path,\n",
        "        target_video_path=args.target_video_path,\n",
        "        confidence_threshold=args.confidence_threshold,\n",
        "        iou_threshold=args.iou_threshold\n",
        "    )"
      ],
      "metadata": {
        "colab": {
          "base_uri": "https://localhost:8080/"
        },
        "id": "JMQQvLSQ5UEs",
        "outputId": "b22ff93b-d61d-4730-a183-1da474af994f"
      },
      "execution_count": null,
      "outputs": [
        {
          "output_type": "stream",
          "name": "stdout",
          "text": [
            "\u001b[0m\u001b[01;34msample_data\u001b[0m/  sv_bytetracker_yolo.py\n"
          ]
        }
      ]
    }
  ]
}